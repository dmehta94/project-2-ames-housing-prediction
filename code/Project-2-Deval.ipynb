{
 "cells": [
  {
   "cell_type": "markdown",
   "id": "e71679f1-536e-4278-adba-a38f526801e0",
   "metadata": {},
   "source": [
    "# Project 2 - Ames Housing Data and Kaggle Challenge (Replace with Actual Title\n",
    "\n",
    "*Deval Mehta*\n",
    "\n",
    "## Table of Contents\n",
    "1) [Overview](#Overview) \n",
    "2) [Data](#Data-Dictionary)\n",
    "3) [Requirements](#Requirements)\n",
    "4) [Executive Summary](#Executive-Summary)\n",
    "    1) [Purpose](#Purpose)\n",
    "    2) [Methods](#Methods)\n",
    "    3) [Findings](#Findings)\n",
    "    4) [Next Steps](#Next-Steps)\n",
    "\n",
    "## Overview\n",
    "Our objective in this project is to create a regression model that accurately predicts the price of a house at sale in Ames, IA.\n",
    "\n",
    "## Data Dictionary\n",
    "\n",
    "## Requirements\n",
    "\n",
    "## Executive Summary\n",
    "\n",
    "#### Purpose\n",
    "\n",
    "#### Methods\n",
    "\n",
    "#### Findings\n",
    "\n",
    "#### Next Steps"
   ]
  }
 ],
 "metadata": {
  "kernelspec": {
   "display_name": "Python 3 (ipykernel)",
   "language": "python",
   "name": "python3"
  },
  "language_info": {
   "codemirror_mode": {
    "name": "ipython",
    "version": 3
   },
   "file_extension": ".py",
   "mimetype": "text/x-python",
   "name": "python",
   "nbconvert_exporter": "python",
   "pygments_lexer": "ipython3",
   "version": "3.11.1"
  }
 },
 "nbformat": 4,
 "nbformat_minor": 5
}
